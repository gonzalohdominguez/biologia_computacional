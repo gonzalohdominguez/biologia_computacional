{
 "cells": [
  {
   "cell_type": "markdown",
   "id": "c8d39d10-2384-4b9f-aa02-bdb0ba9689af",
   "metadata": {},
   "source": [
    "# Trabajo Final: Gonzalo Hernán Domínguez\n",
    "### Manejo de datos en biología computacional. Herramientas de estadística"
   ]
  },
  {
   "cell_type": "markdown",
   "id": "7fa0e7df-2461-4c5a-983f-f7ef06d41057",
   "metadata": {},
   "source": [
    "1. <b>Objetivo</b>: El trabajo final tiene como objetivo sistematizar y aplicar el diseño de experimentos, el manejo automatizado de datos y el análisis estadístico utilizando lenguajes de programación.\n",
    "2. <b>Forma de entrega</b>: El trabajo práctico se realizará de forma individual, y se entregará el día 21 de junio. El mismo deberá además estar en un repositorio pública en Github (creado para la materia), el cual deberá contener un archivo README.md con los datos de los integrantes del equipo. Los trabajos serán presentados por los miembros del equipo en una exposición oral en los días 27 de junio o 4 de julio.\n",
    "3. <b>Dataset</b>: para poder realizar el trabajo utilizarán una tabla propia la cual debe contener información tanto discreta como continua. Sobre la misma plantearemos un conjunto de hipótesis que nos lleven a comparar grupos de datos continuos y discretos.\n",
    "4. <b>Pautas a seguir</b>:\n",
    "    * Realizar una descripción del sistema que se intenta estudiar y de las variables medidas sobre la muestra. ¿Qué criterio se utilizó para la toma de muestra?\n",
    "    * Representar de forma gráfica las distribuciones de frecuencias de las variables.\n",
    "    * Registrar las medidas características de cada distribución (centralización y dispersión).\n",
    "    * Estimar los intervalos de confianza.\n",
    "    * Determinar el tamaño de la muestra.\n",
    "    * Ensayos de hipótesis:\n",
    "        * Realizar un contraste de hipótesis para dos o más poblaciones.\n",
    "        * Realizar un análisis de dependencia de variables categóricas.\n",
    "        * Evaluar el ajuste de una recta de regresión e interpretar el coeficiente de correlación."
   ]
  },
  {
   "cell_type": "markdown",
   "id": "0d1ed4af-7e22-4947-bace-ac69f7736b97",
   "metadata": {},
   "source": [
    "### Importamos las librerías a utilizar"
   ]
  },
  {
   "cell_type": "code",
   "execution_count": 44,
   "id": "27b56f4b-0038-4248-ac68-bcd13c8c2eb9",
   "metadata": {},
   "outputs": [],
   "source": [
    "import pandas as pd\n",
    "import numpy as np\n",
    "import matplotlib.pyplot as plt\n",
    "import seaborn as sns\n",
    "import scipy.stats as ss\n",
    "import statsmodels.api as sm\n",
    "from statsmodels.stats.power import TTestIndPower as smp"
   ]
  },
  {
   "cell_type": "markdown",
   "id": "98c89842-26a4-4a37-b745-979e147b6ed6",
   "metadata": {},
   "source": [
    "### Dataset utilizado: Qualidiab\n",
    "El registro de Qualidiab es una base de datos sobre la situación real de las personas con diabetes en nuestra región. Permite determinar el grado de control clínico y metabólico de cada paciente, evaluar la frecuencia de complicaciones agudas y crónicas, analizar el acceso a la atención médica y los medicamentos, evaluar la adherencia al tratamiento y estudiar los patrones de prescripción."
   ]
  },
  {
   "cell_type": "code",
   "execution_count": 2,
   "id": "217eafaa-217e-4aff-b054-7b403b4a02b6",
   "metadata": {},
   "outputs": [],
   "source": [
    "fichas = pd.read_excel('fichas_dm2.xlsx', sheet_name='Sheet1')"
   ]
  },
  {
   "cell_type": "code",
   "execution_count": 3,
   "id": "bc62c8a2-2a06-4d46-8a36-0dd4bd69d700",
   "metadata": {},
   "outputs": [
    {
     "data": {
      "text/html": [
       "<div>\n",
       "<style scoped>\n",
       "    .dataframe tbody tr th:only-of-type {\n",
       "        vertical-align: middle;\n",
       "    }\n",
       "\n",
       "    .dataframe tbody tr th {\n",
       "        vertical-align: top;\n",
       "    }\n",
       "\n",
       "    .dataframe thead th {\n",
       "        text-align: right;\n",
       "    }\n",
       "</style>\n",
       "<table border=\"1\" class=\"dataframe\">\n",
       "  <thead>\n",
       "    <tr style=\"text-align: right;\">\n",
       "      <th></th>\n",
       "      <th>id_ficha</th>\n",
       "      <th>paciente_id</th>\n",
       "      <th>cobertura_privado</th>\n",
       "      <th>cobertura_obra_social</th>\n",
       "      <th>cobertura_no</th>\n",
       "      <th>antecedentes_hta</th>\n",
       "      <th>antecedentes_dm2</th>\n",
       "      <th>antecedentes_dm1</th>\n",
       "      <th>antecedentes_tag</th>\n",
       "      <th>antecedentes_gaa</th>\n",
       "      <th>...</th>\n",
       "      <th>trata_diabetes</th>\n",
       "      <th>trata_dislipemia</th>\n",
       "      <th>trata_insulina</th>\n",
       "      <th>monoterapia_oral</th>\n",
       "      <th>combinado_oral</th>\n",
       "      <th>oral_con_insulina</th>\n",
       "      <th>comp_macrovasculares</th>\n",
       "      <th>comp_microvasculares</th>\n",
       "      <th>edad_en_registro</th>\n",
       "      <th>anios_con_enfermedad</th>\n",
       "    </tr>\n",
       "  </thead>\n",
       "  <tbody>\n",
       "    <tr>\n",
       "      <th>0</th>\n",
       "      <td>4774</td>\n",
       "      <td>5599</td>\n",
       "      <td>0</td>\n",
       "      <td>1</td>\n",
       "      <td>0</td>\n",
       "      <td>1</td>\n",
       "      <td>1</td>\n",
       "      <td>0</td>\n",
       "      <td>0</td>\n",
       "      <td>0</td>\n",
       "      <td>...</td>\n",
       "      <td>1</td>\n",
       "      <td>1</td>\n",
       "      <td>0</td>\n",
       "      <td>1</td>\n",
       "      <td>0</td>\n",
       "      <td>0</td>\n",
       "      <td>1</td>\n",
       "      <td>1</td>\n",
       "      <td>77</td>\n",
       "      <td>7</td>\n",
       "    </tr>\n",
       "    <tr>\n",
       "      <th>1</th>\n",
       "      <td>5876</td>\n",
       "      <td>5632</td>\n",
       "      <td>1</td>\n",
       "      <td>0</td>\n",
       "      <td>0</td>\n",
       "      <td>0</td>\n",
       "      <td>1</td>\n",
       "      <td>0</td>\n",
       "      <td>0</td>\n",
       "      <td>0</td>\n",
       "      <td>...</td>\n",
       "      <td>1</td>\n",
       "      <td>0</td>\n",
       "      <td>0</td>\n",
       "      <td>0</td>\n",
       "      <td>1</td>\n",
       "      <td>0</td>\n",
       "      <td>1</td>\n",
       "      <td>1</td>\n",
       "      <td>62</td>\n",
       "      <td>9</td>\n",
       "    </tr>\n",
       "    <tr>\n",
       "      <th>2</th>\n",
       "      <td>4127</td>\n",
       "      <td>5710</td>\n",
       "      <td>0</td>\n",
       "      <td>1</td>\n",
       "      <td>0</td>\n",
       "      <td>1</td>\n",
       "      <td>1</td>\n",
       "      <td>0</td>\n",
       "      <td>0</td>\n",
       "      <td>0</td>\n",
       "      <td>...</td>\n",
       "      <td>1</td>\n",
       "      <td>1</td>\n",
       "      <td>0</td>\n",
       "      <td>1</td>\n",
       "      <td>0</td>\n",
       "      <td>0</td>\n",
       "      <td>1</td>\n",
       "      <td>1</td>\n",
       "      <td>53</td>\n",
       "      <td>2</td>\n",
       "    </tr>\n",
       "    <tr>\n",
       "      <th>3</th>\n",
       "      <td>411</td>\n",
       "      <td>5947</td>\n",
       "      <td>0</td>\n",
       "      <td>0</td>\n",
       "      <td>1</td>\n",
       "      <td>1</td>\n",
       "      <td>1</td>\n",
       "      <td>0</td>\n",
       "      <td>0</td>\n",
       "      <td>0</td>\n",
       "      <td>...</td>\n",
       "      <td>0</td>\n",
       "      <td>0</td>\n",
       "      <td>1</td>\n",
       "      <td>0</td>\n",
       "      <td>0</td>\n",
       "      <td>0</td>\n",
       "      <td>1</td>\n",
       "      <td>1</td>\n",
       "      <td>62</td>\n",
       "      <td>-3</td>\n",
       "    </tr>\n",
       "    <tr>\n",
       "      <th>4</th>\n",
       "      <td>5241</td>\n",
       "      <td>5963</td>\n",
       "      <td>0</td>\n",
       "      <td>0</td>\n",
       "      <td>1</td>\n",
       "      <td>0</td>\n",
       "      <td>1</td>\n",
       "      <td>0</td>\n",
       "      <td>0</td>\n",
       "      <td>0</td>\n",
       "      <td>...</td>\n",
       "      <td>1</td>\n",
       "      <td>0</td>\n",
       "      <td>1</td>\n",
       "      <td>1</td>\n",
       "      <td>0</td>\n",
       "      <td>1</td>\n",
       "      <td>1</td>\n",
       "      <td>1</td>\n",
       "      <td>54</td>\n",
       "      <td>25</td>\n",
       "    </tr>\n",
       "    <tr>\n",
       "      <th>...</th>\n",
       "      <td>...</td>\n",
       "      <td>...</td>\n",
       "      <td>...</td>\n",
       "      <td>...</td>\n",
       "      <td>...</td>\n",
       "      <td>...</td>\n",
       "      <td>...</td>\n",
       "      <td>...</td>\n",
       "      <td>...</td>\n",
       "      <td>...</td>\n",
       "      <td>...</td>\n",
       "      <td>...</td>\n",
       "      <td>...</td>\n",
       "      <td>...</td>\n",
       "      <td>...</td>\n",
       "      <td>...</td>\n",
       "      <td>...</td>\n",
       "      <td>...</td>\n",
       "      <td>...</td>\n",
       "      <td>...</td>\n",
       "      <td>...</td>\n",
       "    </tr>\n",
       "    <tr>\n",
       "      <th>3310</th>\n",
       "      <td>7708</td>\n",
       "      <td>13124</td>\n",
       "      <td>0</td>\n",
       "      <td>1</td>\n",
       "      <td>0</td>\n",
       "      <td>0</td>\n",
       "      <td>1</td>\n",
       "      <td>0</td>\n",
       "      <td>0</td>\n",
       "      <td>0</td>\n",
       "      <td>...</td>\n",
       "      <td>1</td>\n",
       "      <td>0</td>\n",
       "      <td>0</td>\n",
       "      <td>1</td>\n",
       "      <td>0</td>\n",
       "      <td>0</td>\n",
       "      <td>1</td>\n",
       "      <td>1</td>\n",
       "      <td>60</td>\n",
       "      <td>10</td>\n",
       "    </tr>\n",
       "    <tr>\n",
       "      <th>3311</th>\n",
       "      <td>12847</td>\n",
       "      <td>17486</td>\n",
       "      <td>0</td>\n",
       "      <td>1</td>\n",
       "      <td>0</td>\n",
       "      <td>1</td>\n",
       "      <td>1</td>\n",
       "      <td>0</td>\n",
       "      <td>0</td>\n",
       "      <td>0</td>\n",
       "      <td>...</td>\n",
       "      <td>1</td>\n",
       "      <td>1</td>\n",
       "      <td>0</td>\n",
       "      <td>1</td>\n",
       "      <td>0</td>\n",
       "      <td>0</td>\n",
       "      <td>1</td>\n",
       "      <td>1</td>\n",
       "      <td>80</td>\n",
       "      <td>12</td>\n",
       "    </tr>\n",
       "    <tr>\n",
       "      <th>3312</th>\n",
       "      <td>7609</td>\n",
       "      <td>13036</td>\n",
       "      <td>0</td>\n",
       "      <td>0</td>\n",
       "      <td>1</td>\n",
       "      <td>0</td>\n",
       "      <td>1</td>\n",
       "      <td>0</td>\n",
       "      <td>0</td>\n",
       "      <td>0</td>\n",
       "      <td>...</td>\n",
       "      <td>1</td>\n",
       "      <td>0</td>\n",
       "      <td>1</td>\n",
       "      <td>1</td>\n",
       "      <td>0</td>\n",
       "      <td>1</td>\n",
       "      <td>1</td>\n",
       "      <td>1</td>\n",
       "      <td>72</td>\n",
       "      <td>4</td>\n",
       "    </tr>\n",
       "    <tr>\n",
       "      <th>3313</th>\n",
       "      <td>12651</td>\n",
       "      <td>17266</td>\n",
       "      <td>0</td>\n",
       "      <td>1</td>\n",
       "      <td>0</td>\n",
       "      <td>1</td>\n",
       "      <td>1</td>\n",
       "      <td>0</td>\n",
       "      <td>0</td>\n",
       "      <td>0</td>\n",
       "      <td>...</td>\n",
       "      <td>0</td>\n",
       "      <td>1</td>\n",
       "      <td>1</td>\n",
       "      <td>0</td>\n",
       "      <td>0</td>\n",
       "      <td>0</td>\n",
       "      <td>1</td>\n",
       "      <td>1</td>\n",
       "      <td>87</td>\n",
       "      <td>17</td>\n",
       "    </tr>\n",
       "    <tr>\n",
       "      <th>3314</th>\n",
       "      <td>12928</td>\n",
       "      <td>17563</td>\n",
       "      <td>0</td>\n",
       "      <td>1</td>\n",
       "      <td>0</td>\n",
       "      <td>0</td>\n",
       "      <td>1</td>\n",
       "      <td>0</td>\n",
       "      <td>0</td>\n",
       "      <td>0</td>\n",
       "      <td>...</td>\n",
       "      <td>1</td>\n",
       "      <td>1</td>\n",
       "      <td>1</td>\n",
       "      <td>0</td>\n",
       "      <td>1</td>\n",
       "      <td>1</td>\n",
       "      <td>1</td>\n",
       "      <td>1</td>\n",
       "      <td>57</td>\n",
       "      <td>1</td>\n",
       "    </tr>\n",
       "  </tbody>\n",
       "</table>\n",
       "<p>3315 rows × 69 columns</p>\n",
       "</div>"
      ],
      "text/plain": [
       "      id_ficha  paciente_id  cobertura_privado  cobertura_obra_social  \\\n",
       "0         4774         5599                  0                      1   \n",
       "1         5876         5632                  1                      0   \n",
       "2         4127         5710                  0                      1   \n",
       "3          411         5947                  0                      0   \n",
       "4         5241         5963                  0                      0   \n",
       "...        ...          ...                ...                    ...   \n",
       "3310      7708        13124                  0                      1   \n",
       "3311     12847        17486                  0                      1   \n",
       "3312      7609        13036                  0                      0   \n",
       "3313     12651        17266                  0                      1   \n",
       "3314     12928        17563                  0                      1   \n",
       "\n",
       "      cobertura_no  antecedentes_hta  antecedentes_dm2  antecedentes_dm1  \\\n",
       "0                0                 1                 1                 0   \n",
       "1                0                 0                 1                 0   \n",
       "2                0                 1                 1                 0   \n",
       "3                1                 1                 1                 0   \n",
       "4                1                 0                 1                 0   \n",
       "...            ...               ...               ...               ...   \n",
       "3310             0                 0                 1                 0   \n",
       "3311             0                 1                 1                 0   \n",
       "3312             1                 0                 1                 0   \n",
       "3313             0                 1                 1                 0   \n",
       "3314             0                 0                 1                 0   \n",
       "\n",
       "      antecedentes_tag  antecedentes_gaa  ...  trata_diabetes  \\\n",
       "0                    0                 0  ...               1   \n",
       "1                    0                 0  ...               1   \n",
       "2                    0                 0  ...               1   \n",
       "3                    0                 0  ...               0   \n",
       "4                    0                 0  ...               1   \n",
       "...                ...               ...  ...             ...   \n",
       "3310                 0                 0  ...               1   \n",
       "3311                 0                 0  ...               1   \n",
       "3312                 0                 0  ...               1   \n",
       "3313                 0                 0  ...               0   \n",
       "3314                 0                 0  ...               1   \n",
       "\n",
       "      trata_dislipemia  trata_insulina  monoterapia_oral  combinado_oral  \\\n",
       "0                    1               0                 1               0   \n",
       "1                    0               0                 0               1   \n",
       "2                    1               0                 1               0   \n",
       "3                    0               1                 0               0   \n",
       "4                    0               1                 1               0   \n",
       "...                ...             ...               ...             ...   \n",
       "3310                 0               0                 1               0   \n",
       "3311                 1               0                 1               0   \n",
       "3312                 0               1                 1               0   \n",
       "3313                 1               1                 0               0   \n",
       "3314                 1               1                 0               1   \n",
       "\n",
       "      oral_con_insulina  comp_macrovasculares  comp_microvasculares  \\\n",
       "0                     0                     1                     1   \n",
       "1                     0                     1                     1   \n",
       "2                     0                     1                     1   \n",
       "3                     0                     1                     1   \n",
       "4                     1                     1                     1   \n",
       "...                 ...                   ...                   ...   \n",
       "3310                  0                     1                     1   \n",
       "3311                  0                     1                     1   \n",
       "3312                  1                     1                     1   \n",
       "3313                  0                     1                     1   \n",
       "3314                  1                     1                     1   \n",
       "\n",
       "      edad_en_registro  anios_con_enfermedad  \n",
       "0                   77                     7  \n",
       "1                   62                     9  \n",
       "2                   53                     2  \n",
       "3                   62                    -3  \n",
       "4                   54                    25  \n",
       "...                ...                   ...  \n",
       "3310                60                    10  \n",
       "3311                80                    12  \n",
       "3312                72                     4  \n",
       "3313                87                    17  \n",
       "3314                57                     1  \n",
       "\n",
       "[3315 rows x 69 columns]"
      ]
     },
     "execution_count": 3,
     "metadata": {},
     "output_type": "execute_result"
    }
   ],
   "source": [
    "fichas"
   ]
  },
  {
   "cell_type": "markdown",
   "id": "d8fee02b-2935-400f-9dc1-1f9607f2ea89",
   "metadata": {},
   "source": [
    "### Hipótesis\n",
    "* Existe una correlación entre el nivel de azúcar en sangre (HbA1c) y la glucemia en ayunas.\n",
    "* Se plantea una relación entre el buen control de HbA1c y la presencia de antecedentes de dislipemia."
   ]
  },
  {
   "cell_type": "markdown",
   "id": "ca440edc-8b69-48b0-b1f1-51c71fb545a6",
   "metadata": {},
   "source": [
    "---"
   ]
  },
  {
   "cell_type": "markdown",
   "id": "09bf13a2-9b41-447e-8c1b-5b2073a9a9f1",
   "metadata": {},
   "source": [
    "## Análisis de dependencia de variables categóricas: relación entre buen control de hba1c y antecedentes de dislipemia"
   ]
  },
  {
   "cell_type": "markdown",
   "id": "2f85c00c-56d2-4e0c-9d24-203d4f1722e4",
   "metadata": {},
   "source": [
    "Hemos creado una nueva columna categórica, identificando a aquellos pacientes con un buen control metabólico como aquellos cuya HbA1c es menor o igual al 7%."
   ]
  },
  {
   "cell_type": "code",
   "execution_count": 60,
   "id": "b70f2cd1-56b7-4d18-a0f8-72d6268638ef",
   "metadata": {},
   "outputs": [],
   "source": [
    "def buen_control_hba1c(valor):\n",
    "    if valor <= 7:\n",
    "        return 1\n",
    "    else:\n",
    "        return 0\n",
    "\n",
    "fichas['buen_control_hba1c'] = fichas['exploraciones_hba1c_valor'].apply(buen_control_hba1c)"
   ]
  },
  {
   "cell_type": "code",
   "execution_count": 61,
   "id": "e28a2b20-60f4-4863-9625-96282c3e43e5",
   "metadata": {},
   "outputs": [],
   "source": [
    "a = fichas['buen_control_hba1c'] == 1\n",
    "b = fichas['antecedentes_dislipemia'] == 1"
   ]
  },
  {
   "cell_type": "code",
   "execution_count": 66,
   "id": "624908d2-04f0-498a-b298-060432e9d970",
   "metadata": {},
   "outputs": [
    {
     "data": {
      "text/plain": [
       "buen_control_hba1c  antecedentes_dislipemia\n",
       "False               False                      983\n",
       "                    True                       988\n",
       "True                False                      674\n",
       "                    True                       670\n",
       "Name: buen_control_hba1c, dtype: int64"
      ]
     },
     "execution_count": 66,
     "metadata": {},
     "output_type": "execute_result"
    }
   ],
   "source": [
    "# Comparamos los datos en una tabla de contingencia\n",
    "groups = fichas.groupby([a,b]).count() \n",
    "groups['buen_control_hba1c']"
   ]
  },
  {
   "cell_type": "code",
   "execution_count": 69,
   "id": "c023d021-7b61-4171-bd75-88bff25cdf18",
   "metadata": {},
   "outputs": [
    {
     "name": "stdout",
     "output_type": "stream",
     "text": [
      "Power_divergenceResult(statistic=118.61568627450981, pvalue=1.5330568489577969e-25)\n"
     ]
    }
   ],
   "source": [
    "# Test de comparación de datos cualitativos\n",
    "print(ss.chisquare(groups['buen_control_hba1c'], ddof=0, axis=0))"
   ]
  },
  {
   "cell_type": "markdown",
   "id": "e2f064ce-6d7c-499f-a07f-dc2be9aed933",
   "metadata": {},
   "source": [
    "Este p-valor es extremadamente pequeño , lo que indica que la probabilidad de observar una diferencia tan grande en las frecuencias observadas y esperadas por azar es extremadamente baja.\n",
    "\n",
    "En el contexto de la prueba de Chi-cuadrado: \n",
    "\n",
    "* Hipótesis nula (H0): No hay asociación entre las variables buen_control_hba1c y antecedentes_dislipemia (son independientes).\n",
    "* Hipótesis alternativa (H1): Hay una asociación entre las variables buen_control_hba1c y antecedentes_dislipemia (no son independientes).\n",
    "\n",
    "Dado que el p-valor es mucho menor que cualquier nivel de significancia comúnmente usado (como 0.05, 0.01, o incluso 0.001), podemos rechazar la hipótesis nula. Esto sugiere que hay una asociación significativa entre buen_control_hba1c y antecedentes_dislipemia."
   ]
  },
  {
   "cell_type": "markdown",
   "id": "5127809e-55b2-4d44-bf47-9c2b910427b2",
   "metadata": {},
   "source": [
    "--- "
   ]
  },
  {
   "cell_type": "markdown",
   "id": "8c58fce6-e438-4a93-8c9b-c4d0b6b3eaa1",
   "metadata": {},
   "source": [
    "## Correlación entre hb1ac y glucemia en ayunas"
   ]
  },
  {
   "cell_type": "markdown",
   "id": "8c0eda24-dea3-4675-b23f-95c06042c704",
   "metadata": {},
   "source": [
    "##### Medidas de centralización y dispersión"
   ]
  },
  {
   "cell_type": "code",
   "execution_count": 76,
   "id": "75adb579-a758-47df-9a5f-1fb58a20bd29",
   "metadata": {},
   "outputs": [
    {
     "data": {
      "text/html": [
       "<div>\n",
       "<style scoped>\n",
       "    .dataframe tbody tr th:only-of-type {\n",
       "        vertical-align: middle;\n",
       "    }\n",
       "\n",
       "    .dataframe tbody tr th {\n",
       "        vertical-align: top;\n",
       "    }\n",
       "\n",
       "    .dataframe thead th {\n",
       "        text-align: right;\n",
       "    }\n",
       "</style>\n",
       "<table border=\"1\" class=\"dataframe\">\n",
       "  <thead>\n",
       "    <tr style=\"text-align: right;\">\n",
       "      <th></th>\n",
       "      <th>exploraciones_hba1c_valor</th>\n",
       "      <th>exploraciones_glucemia_ayunas_valor</th>\n",
       "    </tr>\n",
       "  </thead>\n",
       "  <tbody>\n",
       "    <tr>\n",
       "      <th>count</th>\n",
       "      <td>3315.000000</td>\n",
       "      <td>3315.000000</td>\n",
       "    </tr>\n",
       "    <tr>\n",
       "      <th>mean</th>\n",
       "      <td>7.811566</td>\n",
       "      <td>149.556259</td>\n",
       "    </tr>\n",
       "    <tr>\n",
       "      <th>min</th>\n",
       "      <td>0.000000</td>\n",
       "      <td>12.000000</td>\n",
       "    </tr>\n",
       "    <tr>\n",
       "      <th>25%</th>\n",
       "      <td>6.500000</td>\n",
       "      <td>109.000000</td>\n",
       "    </tr>\n",
       "    <tr>\n",
       "      <th>50%</th>\n",
       "      <td>7.400000</td>\n",
       "      <td>133.000000</td>\n",
       "    </tr>\n",
       "    <tr>\n",
       "      <th>75%</th>\n",
       "      <td>8.610000</td>\n",
       "      <td>172.000000</td>\n",
       "    </tr>\n",
       "    <tr>\n",
       "      <th>max</th>\n",
       "      <td>18.000000</td>\n",
       "      <td>583.000000</td>\n",
       "    </tr>\n",
       "    <tr>\n",
       "      <th>std</th>\n",
       "      <td>1.931524</td>\n",
       "      <td>61.874765</td>\n",
       "    </tr>\n",
       "  </tbody>\n",
       "</table>\n",
       "</div>"
      ],
      "text/plain": [
       "       exploraciones_hba1c_valor  exploraciones_glucemia_ayunas_valor\n",
       "count                3315.000000                          3315.000000\n",
       "mean                    7.811566                           149.556259\n",
       "min                     0.000000                            12.000000\n",
       "25%                     6.500000                           109.000000\n",
       "50%                     7.400000                           133.000000\n",
       "75%                     8.610000                           172.000000\n",
       "max                    18.000000                           583.000000\n",
       "std                     1.931524                            61.874765"
      ]
     },
     "execution_count": 76,
     "metadata": {},
     "output_type": "execute_result"
    }
   ],
   "source": [
    "# Calculamos las medidas de centralización y dispersión para 'exploraciones_hba1c_valor' y para 'exploraciones_glucemia_ayunas_valor'\n",
    "fichas.describe()[['exploraciones_hba1c_valor', 'exploraciones_glucemia_ayunas_valor']]"
   ]
  },
  {
   "cell_type": "code",
   "execution_count": 81,
   "id": "d076866c-4763-4c69-9e77-cc1dbb13f5dc",
   "metadata": {},
   "outputs": [
    {
     "name": "stdout",
     "output_type": "stream",
     "text": [
      "Medidas de 'exploraciones_hba1c_valor':\n",
      "Rango: 18.0\n",
      "Rango intercuartílico (IQR): 2.1099999999999994\n",
      "\n",
      "Medidas de 'exploraciones_glucemia_ayunas_valor':\n",
      "Rango: 571\n",
      "Rango intercuartílico (IQR): 63.0\n"
     ]
    }
   ],
   "source": [
    "# Calculamos el rango e IQR para 'exploraciones_hba1c_valor'\n",
    "hba1c_range = fichas['exploraciones_hba1c_valor'].max() - fichas['exploraciones_hba1c_valor'].min()\n",
    "hba1c_iqr = fichas['exploraciones_hba1c_valor'].quantile(0.75) - fichas['exploraciones_hba1c_valor'].quantile(0.25)\n",
    "\n",
    "# Calculamos el rango e IQR para 'exploraciones_glucemia_ayunas_valor'\n",
    "glucemia_range = fichas['exploraciones_glucemia_ayunas_valor'].max() - fichas['exploraciones_glucemia_ayunas_valor'].min()\n",
    "glucemia_iqr = fichas['exploraciones_glucemia_ayunas_valor'].quantile(0.75) - fichas['exploraciones_glucemia_ayunas_valor'].quantile(0.25)\n",
    "\n",
    "# Imprimir los resultados\n",
    "print(\"Medidas de 'exploraciones_hba1c_valor':\")\n",
    "print(f\"Rango: {hba1c_range}\")\n",
    "print(f\"Rango intercuartílico (IQR): {hba1c_iqr}\")\n",
    "\n",
    "print(\"\\nMedidas de 'exploraciones_glucemia_ayunas_valor':\")\n",
    "print(f\"Rango: {glucemia_range}\")\n",
    "print(f\"Rango intercuartílico (IQR): {glucemia_iqr}\")"
   ]
  },
  {
   "cell_type": "markdown",
   "id": "b20513aa-d8b5-4d05-bf6c-f7838c97f756",
   "metadata": {},
   "source": [
    "##### Tamaño de la muestra"
   ]
  },
  {
   "cell_type": "code",
   "execution_count": 49,
   "id": "c57daf0c-d928-4dd3-b8e0-4ba2f65a453b",
   "metadata": {},
   "outputs": [
    {
     "name": "stdout",
     "output_type": "stream",
     "text": [
      "El tamaño muestral necesario es: 4\n"
     ]
    }
   ],
   "source": [
    "# Calcular la media y la desviación estándar de los datos existentes\n",
    "datos_mean1 = np.mean(fichas['exploraciones_hba1c_valor'])\n",
    "datos_mean2 = np.mean(fichas['exploraciones_glucemia_ayunas_valor'])\n",
    "datos_std = np.std(fichas['exploraciones_glucemia_ayunas_valor'], ddof=1)\n",
    "\n",
    "# Definir los parámetros de la prueba\n",
    "effect_size = abs(datos_mean1 - datos_mean2)/ datos_std\n",
    "alpha = 0.05\n",
    "power = 0.8\n",
    "\n",
    "# Crear una instancia de la clase TTestIndPower\n",
    "ttp = TTestIndPower()\n",
    "\n",
    "# Calcular el tamaño muestral necesario\n",
    "n = ttp.solve_power(effect_size=effect_size, alpha=alpha, power=power, ratio=1.0, alternative='two-sided')\n",
    "\n",
    "# Imprimir el resultado\n",
    "print(\"El tamaño muestral necesario es:\", round(n))"
   ]
  },
  {
   "cell_type": "markdown",
   "id": "b3d47d23-a250-4b04-af8c-bd440cc55d9f",
   "metadata": {},
   "source": [
    "##### Intervalos de confianza"
   ]
  },
  {
   "cell_type": "code",
   "execution_count": 75,
   "id": "5bab7d01-835e-4677-bffc-a4ea7dc9250b",
   "metadata": {},
   "outputs": [
    {
     "name": "stdout",
     "output_type": "stream",
     "text": [
      "Intervalo de confianza del 95% para 'exploraciones_hba1c_valor':\n",
      "(7.745813985971088, 7.87731723574837)\n",
      "\n",
      "Intervalo de confianza del 95% para 'exploraciones_glucemia_ayunas_valor':\n",
      "(147.44996109110343, 151.66255776259192)\n"
     ]
    }
   ],
   "source": [
    "from scipy.stats import norm\n",
    "\n",
    "# Función para calcular el intervalo de confianza\n",
    "def calculate_confidence_interval(data, confidence=0.95):\n",
    "    n = len(data)\n",
    "    mean = np.mean(data)\n",
    "    std_err = np.std(data, ddof=1) / np.sqrt(n)\n",
    "    margin_of_error = std_err * norm.ppf((1 + confidence) / 2)\n",
    "    return mean - margin_of_error, mean + margin_of_error\n",
    "\n",
    "# Calcular el intervalo de confianza para 'exploraciones_hba1c_valor'\n",
    "hba1c_ci_lower, hba1c_ci_upper = calculate_confidence_interval(fichas['exploraciones_hba1c_valor'])\n",
    "\n",
    "# Calcular el intervalo de confianza para 'exploraciones_glucemia_ayunas_valor'\n",
    "glucemia_ci_lower, glucemia_ci_upper = calculate_confidence_interval(fichas['exploraciones_glucemia_ayunas_valor'])\n",
    "\n",
    "# Imprimir los resultados\n",
    "print(\"Intervalo de confianza del 95% para 'exploraciones_hba1c_valor':\")\n",
    "print(f\"({hba1c_ci_lower}, {hba1c_ci_upper})\")\n",
    "\n",
    "print(\"\\nIntervalo de confianza del 95% para 'exploraciones_glucemia_ayunas_valor':\")\n",
    "print(f\"({glucemia_ci_lower}, {glucemia_ci_upper})\")"
   ]
  },
  {
   "cell_type": "markdown",
   "id": "62e0ab8f-0799-4c45-aac7-2237dff7006c",
   "metadata": {},
   "source": [
    "##### Forma gráfica las distribuciones de frecuencias de las variables"
   ]
  },
  {
   "cell_type": "code",
   "execution_count": 78,
   "id": "4a021b6d-ecbd-4f80-89f0-239d48bda7ab",
   "metadata": {},
   "outputs": [
    {
     "data": {
      "image/png": "[encoded data removed]",
      "text/plain": [
       "<Figure size 1500x1000 with 4 Axes>"
      ]
     },
     "metadata": {},
     "output_type": "display_data"
    }
   ],
   "source": [
    "# Crear una figura con cuatro subplots (2 filas, 2 columnas)\n",
    "fig, axes = plt.subplots(2, 2, figsize=(15, 10))\n",
    "\n",
    "# Primer gráfico (histograma de HbA1c)\n",
    "axes[0, 0].hist(fichas['exploraciones_hba1c_valor'], bins=100)\n",
    "axes[0, 0].set_title('Distribución de HbA1c')\n",
    "axes[0, 0].set_xlabel('HbA1c')\n",
    "axes[0, 0].set_ylabel('Frecuencia')\n",
    "\n",
    "# Segundo gráfico (histograma de Glucemia en Ayunas)\n",
    "axes[0, 1].hist(fichas['exploraciones_glucemia_ayunas_valor'], bins=100)\n",
    "axes[0, 1].set_title('Distribución de Glucemia en Ayunas')\n",
    "axes[0, 1].set_xlabel('Glucemia en Ayunas')\n",
    "axes[0, 1].set_ylabel('Frecuencia')\n",
    "\n",
    "# Tercer gráfico (boxplot de HbA1c)\n",
    "sns.boxplot(y=fichas['exploraciones_hba1c_valor'], ax=axes[1, 0])\n",
    "axes[1, 0].set_title('Boxplot de HbA1c')\n",
    "axes[1, 0].set_ylabel('HbA1c')\n",
    "\n",
    "# Cuarto gráfico (boxplot de Glucemia en Ayunas)\n",
    "sns.boxplot(y=fichas['exploraciones_glucemia_ayunas_valor'], ax=axes[1, 1])\n",
    "axes[1, 1].set_title('Boxplot de Glucemia en Ayunas')\n",
    "axes[1, 1].set_ylabel('Glucemia en Ayunas')\n",
    "\n",
    "# Ajustar el diseño para que los gráficos no se solapen\n",
    "plt.tight_layout()\n",
    "\n",
    "# Mostrar los gráficos\n",
    "plt.show()"
   ]
  },
  {
   "cell_type": "markdown",
   "id": "d97da8f7-0970-4fd5-b2de-3d72343650bb",
   "metadata": {},
   "source": [
    "##### Test de normalidad"
   ]
  },
  {
   "cell_type": "code",
   "execution_count": 16,
   "id": "aeaa1840-9689-43a3-b226-aa507e7e23fc",
   "metadata": {},
   "outputs": [
    {
     "name": "stdout",
     "output_type": "stream",
     "text": [
      "Test de normalidad hba1c:  NormaltestResult(statistic=741.6071966079205, pvalue=9.163120266007718e-162)\n",
      "Test de normalidad glucemia en ayunas:  NormaltestResult(statistic=1388.861696704899, pvalue=2.5853211384481055e-302)\n"
     ]
    }
   ],
   "source": [
    "print(\"Test de normalidad hba1c: \", ss.normaltest(fichas['exploraciones_hba1c_valor']))\n",
    "print(\"Test de normalidad glucemia en ayunas: \", ss.normaltest(fichas['exploraciones_glucemia_ayunas_valor']))"
   ]
  },
  {
   "cell_type": "markdown",
   "id": "91b76fe9-43eb-4edd-8955-fd611dca0da5",
   "metadata": {},
   "source": [
    "Como las distribuciones no son normales, deberíamos utilizar un test de correlación para datos no paramétricos. Esa correlación es la prueba de Spearman. "
   ]
  },
  {
   "cell_type": "code",
   "execution_count": 79,
   "id": "aa3264cd-910a-4727-92ec-aa2208a3d186",
   "metadata": {},
   "outputs": [
    {
     "data": {
      "text/plain": [
       "SignificanceResult(statistic=0.5719014197437254, pvalue=2.6002198374445652e-287)"
      ]
     },
     "execution_count": 79,
     "metadata": {},
     "output_type": "execute_result"
    }
   ],
   "source": [
    "x = fichas['exploraciones_hba1c_valor'][:]\n",
    "y = fichas['exploraciones_glucemia_ayunas_valor'][:]\n",
    "ss.spearmanr(x, y)"
   ]
  },
  {
   "cell_type": "markdown",
   "id": "16a5e482-0e46-48ee-8fda-0af1453b5aa6",
   "metadata": {},
   "source": [
    "* En este caso, 0.5719 sugiere una correlación moderada positiva.\n",
    "* Dado que este valor p es significativamente menor que cualquier nivel de significancia común (por ejemplo, 0.05), generalmente se interpreta como evidencia muy fuerte en contra de la hipótesis nula. Esto sugiere que hay una correlación significativa entre exploraciones_hba1c_valor y exploraciones_glucemia_ayunas_valor.\n",
    "\n",
    "Los valores de HbA1c y los de glucemia en ayunas tienden a variar juntos en una dirección monotónica positiva."
   ]
  },
  {
   "cell_type": "code",
   "execution_count": 8,
   "id": "7157ec9c-5ce5-4da1-913b-eb3592ec67df",
   "metadata": {},
   "outputs": [
    {
     "data": {
      "text/plain": [
       "<Axes: xlabel='exploraciones_hba1c_valor', ylabel='exploraciones_glucemia_ayunas_valor'>"
      ]
     },
     "execution_count": 8,
     "metadata": {},
     "output_type": "execute_result"
    },
    {
     "data": {
      "image/png": "[encoded data removed]",
      "text/plain": [
       "<Figure size 640x480 with 1 Axes>"
      ]
     },
     "metadata": {},
     "output_type": "display_data"
    }
   ],
   "source": [
    "sns.regplot(x=x, y=y, color=\"blue\", line_kws=dict(color=\"r\"))"
   ]
  },
  {
   "cell_type": "code",
   "execution_count": 12,
   "id": "d6e8b565-f45f-4e14-9923-e0b108999393",
   "metadata": {},
   "outputs": [
    {
     "name": "stdout",
     "output_type": "stream",
     "text": [
      "                                     OLS Regression Results                                    \n",
      "===============================================================================================\n",
      "Dep. Variable:     exploraciones_glucemia_ayunas_valor   R-squared:                       0.328\n",
      "Model:                                             OLS   Adj. R-squared:                  0.328\n",
      "Method:                                  Least Squares   F-statistic:                     1616.\n",
      "Date:                                 Fri, 05 Jul 2024   Prob (F-statistic):          3.46e-288\n",
      "Time:                                         15:02:29   Log-Likelihood:                -17719.\n",
      "No. Observations:                                 3315   AIC:                         3.544e+04\n",
      "Df Residuals:                                     3313   BIC:                         3.546e+04\n",
      "Df Model:                                            1                                         \n",
      "Covariance Type:                             nonrobust                                         \n",
      "=============================================================================================\n",
      "                                coef    std err          t      P>|t|      [0.025      0.975]\n",
      "---------------------------------------------------------------------------------------------\n",
      "const                         6.2664      3.672      1.707      0.088      -0.932      13.465\n",
      "exploraciones_hba1c_valor    18.3433      0.456     40.203      0.000      17.449      19.238\n",
      "==============================================================================\n",
      "Omnibus:                     1172.154   Durbin-Watson:                   1.839\n",
      "Prob(Omnibus):                  0.000   Jarque-Bera (JB):             8404.765\n",
      "Skew:                           1.494   Prob(JB):                         0.00\n",
      "Kurtosis:                      10.205   Cond. No.                         34.0\n",
      "==============================================================================\n",
      "\n",
      "Notes:\n",
      "[1] Standard Errors assume that the covariance matrix of the errors is correctly specified.\n"
     ]
    }
   ],
   "source": [
    "X = x\n",
    "Y = y\n",
    "\n",
    "results = sm.OLS(Y,sm.add_constant(X)).fit()\n",
    "\n",
    "print(results.summary())"
   ]
  }
 ],
 "metadata": {
  "kernelspec": {
   "display_name": "Python 3",
   "language": "python",
   "name": "python3"
  },
  "language_info": {
   "codemirror_mode": {
    "name": "ipython",
    "version": 3
   },
   "file_extension": ".py",
   "mimetype": "text/x-python",
   "name": "python",
   "nbconvert_exporter": "python",
   "pygments_lexer": "ipython3",
   "version": "3.11.3"
  }
 },
 "nbformat": 4,
 "nbformat_minor": 5
}
